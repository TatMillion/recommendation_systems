{
 "cells": [
  {
   "cell_type": "markdown",
   "id": "4a69d050",
   "metadata": {},
   "source": [
    "# Урок 3. Коллаборативная фильтрация\n",
    "\n",
    "1) Попытаться ответить на вопросы/выдвинуть гипотезы\n",
    "\n",
    "**Ситуация**: Вы работает data scientist в крупном продуктовом российском ритейлере. Ваш конкурент сделал рекомендательную систему, и его продажи выросли. Ваш менеджмент тоже хочет увеличить продажи   \n",
    "\n",
    "**Задача со слов менеджера**: Сделайте рекомендательную систему топ-10 товаров для рассылки по e-mail\n",
    "\n",
    "**Ожидание:**\n",
    "- Отправляем e-mail с топ-10 товарами, отсортированными по вероятности\n",
    "\n",
    "**Реальность:**\n",
    "- Чего хочет менеджер от рекомендательной системы? (рост показателя X на Y% за Z недель)\n",
    "\n",
    "увеличить прибыль\n",
    "- По-хорошему надо бы предварительно посчитать потенциальный эффект от рекоммендательной системы (Оценки эффектов у менеджера и у вас могут сильно не совпадать: как правило, вы знаете про данные больше)\n",
    "\n",
    "все зависит от изначальной цели\n",
    "\n",
    "- А у нас вообще есть e-mail-ы пользователей? Для скольки %? Не устарели ли они?\n",
    "\n",
    "нужно бы выделить ту часть пользователей, которых раздражают рассылки, чтобы по итогу их не потерять как клиентов.\n",
    "\n",
    "- Будем ли использовать СМС и push-уведомления в приложении? Может, будем печатать рекомендации на чеке после оплаты на кассе?\n",
    "\n",
    "надо провести опрос среди клиентов, как бы они педпочли получать информацию. через смс, push-уведомления или email\n",
    "\n",
    "- Как будет выглядеть e-mail? (решаем задачу топ-10 рекомендаций или ранжирования? И топ-10 ли?)\n",
    "\n",
    "топ10 многовато. максимум 5\n",
    "\n",
    "- Какие товары должны быть в e-mail? Есть ли какие-то ограничения (только акции и т п)?\n",
    "\n",
    "на которые сейчас максимальные скидки\n",
    "\n",
    "- Сколько денег мы готовы потратить на привлечение 1 юзера? CAC - Customer Aquisition Cost. Обычно CAC = расходы на коммуникацию + расходы на скидки\n",
    "- Cколько мы хотим зарабатывать с одного привлеченного юзера?\n",
    "---\n",
    "- А точно нужно сортировать по вероятности?\n",
    "\n",
    "да\n",
    "- Какую метрику использовать?\n",
    "\n",
    "Precision. \n",
    "- Сколько раз в неделю отпрпавляем рассылку?\n",
    "не чаще одного раза в неделю\n",
    "- В какое время отправляем рассылку?\n",
    "либо рано утром, либо вечером после рабочего дня, но надо учитывать еще разность в часовых поясах.\n",
    "\n",
    "- Будем отправлять одному юзеру много раз наши рекоммендации. Как добиться того, чтобы они хоть немного отличались?\n",
    "\n",
    "исключить повторы одних и тех же рекомендаций. ну или показывать 1-2 с наибольшими скидками\n",
    "- Нужно ли, чтобы в одной рассылке были *разные* товары? Как определить, что товары *разные*? Как добиться того, чтобы они были разными?\n",
    "\n",
    "можно. если делать рассылку раз в неделю, то можно в одну неделю отправить товары категории \"товары для дома\" а в следующий раз \"косметика\" еще было бы неплохо приурочить рассылки к ближайшим праздникам.\n",
    "- И многое другое:)\n",
    "\n",
    "**В итоге договорились, что:**\n",
    "- Хотим повысить выручку минимум на 6% за 4 месяца. Будем повышать за счет роста Retention минимум на  3% и среднего чека минимум на 3%\n",
    "- Топ-5 товаров, а не топ-10 (В e-mail 10 выглядят не красиво, в push и на чек больше 5 не влезает)\n",
    "- Рассылаем в e-mail (5% клиентов) и push-уведомлении (20% клиентов), печатаем на чеке (все оффлайн клиенты)\n",
    "- **3 товара с акцией** (Как это учесть? А если на товар была акция 10%, а потом 50%, что будет стоять в user-item матрице?)\n",
    "- **1 новый товар** (юзер никогда не покупал. Просто фильтруем аутпут ALS? А если у таких товаров очень маленькая вероятность покупки? Может, использовать другую логику/модель?) \n",
    "- **1 товар для роста среднего чека** (товары минимум дороже чем обычно покупает юзер. Как это измерить? На сколько дороже?)\n"
   ]
  },
  {
   "cell_type": "markdown",
   "id": "8a7d86c2",
   "metadata": {},
   "source": [
    "2) Поэкспериментировать с ALS (grid-search)"
   ]
  },
  {
   "cell_type": "code",
   "execution_count": 2,
   "id": "f8b4fcf2",
   "metadata": {},
   "outputs": [],
   "source": [
    "\n",
    "\n",
    "import itertools as it\n",
    "\n",
    "import pandas as pd\n",
    "import numpy as np\n",
    "import matplotlib.pyplot as plt\n",
    "\n",
    "# Для работы с матрицами\n",
    "from scipy.sparse import csr_matrix\n",
    "\n",
    "# Для поиска параметров ALS\n",
    "from sklearn.model_selection import GridSearchCV\n",
    "\n",
    "# Матричная факторизация\n",
    "from implicit.als import AlternatingLeastSquares\n",
    "from implicit.nearest_neighbours import bm25_weight, tfidf_weight\n",
    "    \n",
    "from metrics import precision_at_k, recall_at_k\n",
    "\n",
    "\n",
    "%matplotlib inline\n",
    "\n"
   ]
  },
  {
   "cell_type": "code",
   "execution_count": 3,
   "id": "8fe900e4",
   "metadata": {},
   "outputs": [],
   "source": [
    "data = pd.read_csv('retail_train.csv')"
   ]
  },
  {
   "cell_type": "code",
   "execution_count": 4,
   "id": "e98da859",
   "metadata": {},
   "outputs": [],
   "source": [
    "data.columns = [col.lower() for col in data.columns]\n",
    "data.rename(columns={'household_key': 'user_id',\n",
    "                    'product_id': 'item_id'},\n",
    "            inplace=True)"
   ]
  },
  {
   "cell_type": "code",
   "execution_count": 5,
   "id": "a71e1c8b",
   "metadata": {},
   "outputs": [],
   "source": [
    "test_size_weeks = 3\n",
    "\n",
    "data_train = data[data['week_no'] < data['week_no'].max() - test_size_weeks]\n",
    "data_test = data[data['week_no'] >= data['week_no'].max() - test_size_weeks]"
   ]
  },
  {
   "cell_type": "code",
   "execution_count": 7,
   "id": "f2248c7e",
   "metadata": {},
   "outputs": [],
   "source": [
    "item_features = pd.read_csv('product.csv')\n",
    "item_features.columns = [col.lower() for col in item_features.columns]\n",
    "item_features.rename(columns={'product_id': 'item_id'}, inplace=True)"
   ]
  },
  {
   "cell_type": "code",
   "execution_count": 8,
   "id": "f607ba22",
   "metadata": {},
   "outputs": [],
   "source": [
    "result = data_test.groupby('user_id')['item_id'].unique().reset_index()\n",
    "result.columns=['user_id', 'actual']"
   ]
  },
  {
   "cell_type": "code",
   "execution_count": 9,
   "id": "ba5856f4",
   "metadata": {},
   "outputs": [],
   "source": [
    "popularity = data_train.groupby('item_id')['quantity'].sum().reset_index()\n",
    "popularity.rename(columns={'quantity': 'n_sold'}, inplace=True)\n",
    "top_5000 = popularity.sort_values('n_sold', ascending=False).head(5000).item_id.tolist()"
   ]
  },
  {
   "cell_type": "code",
   "execution_count": 10,
   "id": "e797fcd5",
   "metadata": {},
   "outputs": [
    {
     "name": "stderr",
     "output_type": "stream",
     "text": [
      "C:\\Users\\tatya\\anaconda3\\lib\\site-packages\\pandas\\core\\indexing.py:1720: SettingWithCopyWarning: \n",
      "A value is trying to be set on a copy of a slice from a DataFrame.\n",
      "Try using .loc[row_indexer,col_indexer] = value instead\n",
      "\n",
      "See the caveats in the documentation: https://pandas.pydata.org/pandas-docs/stable/user_guide/indexing.html#returning-a-view-versus-a-copy\n",
      "  self._setitem_single_column(loc, value, pi)\n"
     ]
    }
   ],
   "source": [
    "# Заведем фиктивный item_id\n",
    "data_train.loc[~data_train['item_id'].isin(top_5000), 'item_id'] = 999999"
   ]
  },
  {
   "cell_type": "code",
   "execution_count": 11,
   "id": "efa5c27a",
   "metadata": {},
   "outputs": [],
   "source": [
    "user_item_matrix = pd.pivot_table(data_train, \n",
    "                                  index='user_id', columns='item_id', \n",
    "                                  values='quantity', # Можно пробоват ьдругие варианты\n",
    "                                  aggfunc='count', \n",
    "                                  fill_value=0\n",
    "                                 )\n",
    "\n",
    "user_item_matrix = user_item_matrix.astype(float) # необходимый тип матрицы для implicit"
   ]
  },
  {
   "cell_type": "code",
   "execution_count": 12,
   "id": "0defae5e",
   "metadata": {},
   "outputs": [],
   "source": [
    "# переведем в формат saprse matrix\n",
    "sparse_user_item = csr_matrix(user_item_matrix)"
   ]
  },
  {
   "cell_type": "code",
   "execution_count": 13,
   "id": "d470c3fe",
   "metadata": {},
   "outputs": [],
   "source": [
    "userids = user_item_matrix.index.values\n",
    "itemids = user_item_matrix.columns.values\n",
    "\n",
    "matrix_userids = np.arange(len(userids))\n",
    "matrix_itemids = np.arange(len(itemids))\n",
    "\n",
    "id_to_itemid = dict(zip(matrix_itemids, itemids))\n",
    "id_to_userid = dict(zip(matrix_userids, userids))\n",
    "\n",
    "itemid_to_id = dict(zip(itemids, matrix_itemids))\n",
    "userid_to_id = dict(zip(userids, matrix_userids))"
   ]
  },
  {
   "cell_type": "code",
   "execution_count": 14,
   "id": "53078b92",
   "metadata": {},
   "outputs": [],
   "source": [
    "def get_recommendations(user, model, N=5):\n",
    "    res = [id_to_itemid[rec[0]] for rec in \n",
    "                    model.recommend(userid=userid_to_id[user], \n",
    "                                    user_items=sparse_user_item,   # на вход user-item matrix\n",
    "                                    N=N, \n",
    "                                    filter_already_liked_items=False, \n",
    "                                    filter_items=None, \n",
    "                                    recalculate_user=True)]\n",
    "    return res"
   ]
  },
  {
   "cell_type": "code",
   "execution_count": 15,
   "id": "196fc828",
   "metadata": {},
   "outputs": [],
   "source": [
    "def score_als_precision(model, user_ids, actual_recs, N=5):\n",
    "#     model.fit(csr_matrix(user_item_matrix).T,  # На вход item-user matrix\n",
    "#               show_progress=True)\n",
    "\n",
    "#     recs = model.recommend(userid=userid_to_id[2],  # userid - id от 0 до N\n",
    "#                            user_items=csr_matrix(user_item_matrix).tocsr(),   # на вход user-item matrix\n",
    "#                            N=5, # кол-во рекомендаций \n",
    "#                            filter_already_liked_items=False, \n",
    "#                            filter_items=None, \n",
    "#                            recalculate_user=True)\n",
    "    \n",
    "    recs = user_ids.apply(lambda x: get_recommendations(x, model=model, N=N))\n",
    "    result = pd.DataFrame(actual_recs)\n",
    "    result = result.rename(columns={'user_id': 'actual'})\n",
    "    result['recs'] = recs\n",
    "    score = result.apply(lambda row: precision_at_k(row['recs'], row['actual']), axis=1).mean()\n",
    "    \n",
    "    return score"
   ]
  },
  {
   "cell_type": "code",
   "execution_count": 16,
   "id": "0f5dbba8",
   "metadata": {},
   "outputs": [
    {
     "data": {
      "text/html": [
       "<div>\n",
       "<style scoped>\n",
       "    .dataframe tbody tr th:only-of-type {\n",
       "        vertical-align: middle;\n",
       "    }\n",
       "\n",
       "    .dataframe tbody tr th {\n",
       "        vertical-align: top;\n",
       "    }\n",
       "\n",
       "    .dataframe thead th {\n",
       "        text-align: right;\n",
       "    }\n",
       "</style>\n",
       "<table border=\"1\" class=\"dataframe\">\n",
       "  <thead>\n",
       "    <tr style=\"text-align: right;\">\n",
       "      <th></th>\n",
       "      <th>user_id</th>\n",
       "      <th>actual</th>\n",
       "    </tr>\n",
       "  </thead>\n",
       "  <tbody>\n",
       "    <tr>\n",
       "      <th>0</th>\n",
       "      <td>1</td>\n",
       "      <td>[821867, 834484, 856942, 865456, 889248, 90795...</td>\n",
       "    </tr>\n",
       "    <tr>\n",
       "      <th>1</th>\n",
       "      <td>3</td>\n",
       "      <td>[835476, 851057, 872021, 878302, 879948, 90963...</td>\n",
       "    </tr>\n",
       "  </tbody>\n",
       "</table>\n",
       "</div>"
      ],
      "text/plain": [
       "   user_id                                             actual\n",
       "0        1  [821867, 834484, 856942, 865456, 889248, 90795...\n",
       "1        3  [835476, 851057, 872021, 878302, 879948, 90963..."
      ]
     },
     "execution_count": 16,
     "metadata": {},
     "output_type": "execute_result"
    }
   ],
   "source": [
    "rec_results = data_test.groupby('user_id')['item_id'].unique().reset_index()\n",
    "rec_results.columns=['user_id', 'actual']\n",
    "rec_results.head(2)"
   ]
  },
  {
   "cell_type": "code",
   "execution_count": 17,
   "id": "13cd1b0a",
   "metadata": {},
   "outputs": [],
   "source": [
    "parameters = {'factors': [32, 64, 128],\n",
    "              'regularization': [0.0001, 0.001, 0.01],\n",
    "              'iterations': [10, 15, 20]}"
   ]
  },
  {
   "cell_type": "code",
   "execution_count": 18,
   "id": "4ab2140f",
   "metadata": {},
   "outputs": [
    {
     "name": "stderr",
     "output_type": "stream",
     "text": [
      "WARNING:root:Intel MKL BLAS detected. Its highly recommend to set the environment variable 'export MKL_NUM_THREADS=1' to disable its internal multithreading\n"
     ]
    },
    {
     "data": {
      "application/vnd.jupyter.widget-view+json": {
       "model_id": "e0db2d290cc54ecf8d744646e1d6b22a",
       "version_major": 2,
       "version_minor": 0
      },
      "text/plain": [
       "  0%|          | 0/10 [00:00<?, ?it/s]"
      ]
     },
     "metadata": {},
     "output_type": "display_data"
    },
    {
     "data": {
      "application/vnd.jupyter.widget-view+json": {
       "model_id": "7158b4915645424786b210b27c0b5306",
       "version_major": 2,
       "version_minor": 0
      },
      "text/plain": [
       "  0%|          | 0/15 [00:00<?, ?it/s]"
      ]
     },
     "metadata": {},
     "output_type": "display_data"
    },
    {
     "data": {
      "application/vnd.jupyter.widget-view+json": {
       "model_id": "2af463ae9fbb4b8f834fe04887692724",
       "version_major": 2,
       "version_minor": 0
      },
      "text/plain": [
       "  0%|          | 0/20 [00:00<?, ?it/s]"
      ]
     },
     "metadata": {},
     "output_type": "display_data"
    },
    {
     "data": {
      "application/vnd.jupyter.widget-view+json": {
       "model_id": "332bbd8b1aeb45408b5d4f1c254b183b",
       "version_major": 2,
       "version_minor": 0
      },
      "text/plain": [
       "  0%|          | 0/10 [00:00<?, ?it/s]"
      ]
     },
     "metadata": {},
     "output_type": "display_data"
    },
    {
     "data": {
      "application/vnd.jupyter.widget-view+json": {
       "model_id": "52f8a5fb1c6d4b18beeda40d453f9c3a",
       "version_major": 2,
       "version_minor": 0
      },
      "text/plain": [
       "  0%|          | 0/15 [00:00<?, ?it/s]"
      ]
     },
     "metadata": {},
     "output_type": "display_data"
    },
    {
     "data": {
      "application/vnd.jupyter.widget-view+json": {
       "model_id": "9a93bf84392e4421998cdb579c11da4a",
       "version_major": 2,
       "version_minor": 0
      },
      "text/plain": [
       "  0%|          | 0/20 [00:00<?, ?it/s]"
      ]
     },
     "metadata": {},
     "output_type": "display_data"
    },
    {
     "data": {
      "application/vnd.jupyter.widget-view+json": {
       "model_id": "7f3ddc5e3c1d4ecf899ecff1a73e9a72",
       "version_major": 2,
       "version_minor": 0
      },
      "text/plain": [
       "  0%|          | 0/10 [00:00<?, ?it/s]"
      ]
     },
     "metadata": {},
     "output_type": "display_data"
    },
    {
     "data": {
      "application/vnd.jupyter.widget-view+json": {
       "model_id": "dd2639f8ad5c410dbc141b2dde511ce1",
       "version_major": 2,
       "version_minor": 0
      },
      "text/plain": [
       "  0%|          | 0/15 [00:00<?, ?it/s]"
      ]
     },
     "metadata": {},
     "output_type": "display_data"
    },
    {
     "data": {
      "application/vnd.jupyter.widget-view+json": {
       "model_id": "03b7d282dbe44ec68944d8dd2a6c8111",
       "version_major": 2,
       "version_minor": 0
      },
      "text/plain": [
       "  0%|          | 0/20 [00:00<?, ?it/s]"
      ]
     },
     "metadata": {},
     "output_type": "display_data"
    },
    {
     "data": {
      "application/vnd.jupyter.widget-view+json": {
       "model_id": "404c40cfe72c4d8f8f02a1eee7f35c26",
       "version_major": 2,
       "version_minor": 0
      },
      "text/plain": [
       "  0%|          | 0/10 [00:00<?, ?it/s]"
      ]
     },
     "metadata": {},
     "output_type": "display_data"
    },
    {
     "data": {
      "application/vnd.jupyter.widget-view+json": {
       "model_id": "63a78a5b5b8d479082bb9ce700e85c35",
       "version_major": 2,
       "version_minor": 0
      },
      "text/plain": [
       "  0%|          | 0/15 [00:00<?, ?it/s]"
      ]
     },
     "metadata": {},
     "output_type": "display_data"
    },
    {
     "data": {
      "application/vnd.jupyter.widget-view+json": {
       "model_id": "55934e203744454bb061d50a1741d0f0",
       "version_major": 2,
       "version_minor": 0
      },
      "text/plain": [
       "  0%|          | 0/20 [00:00<?, ?it/s]"
      ]
     },
     "metadata": {},
     "output_type": "display_data"
    },
    {
     "data": {
      "application/vnd.jupyter.widget-view+json": {
       "model_id": "ef1c58f57de7449aa4751148383225bf",
       "version_major": 2,
       "version_minor": 0
      },
      "text/plain": [
       "  0%|          | 0/10 [00:00<?, ?it/s]"
      ]
     },
     "metadata": {},
     "output_type": "display_data"
    },
    {
     "data": {
      "application/vnd.jupyter.widget-view+json": {
       "model_id": "19941c9e739d40abb513638bf74f8d4c",
       "version_major": 2,
       "version_minor": 0
      },
      "text/plain": [
       "  0%|          | 0/15 [00:00<?, ?it/s]"
      ]
     },
     "metadata": {},
     "output_type": "display_data"
    },
    {
     "data": {
      "application/vnd.jupyter.widget-view+json": {
       "model_id": "4f6afd614abd4bdc8745881e8f3efde4",
       "version_major": 2,
       "version_minor": 0
      },
      "text/plain": [
       "  0%|          | 0/20 [00:00<?, ?it/s]"
      ]
     },
     "metadata": {},
     "output_type": "display_data"
    },
    {
     "data": {
      "application/vnd.jupyter.widget-view+json": {
       "model_id": "0d64ad0ee67f4c67a00afbb5a4f9b6ee",
       "version_major": 2,
       "version_minor": 0
      },
      "text/plain": [
       "  0%|          | 0/10 [00:00<?, ?it/s]"
      ]
     },
     "metadata": {},
     "output_type": "display_data"
    },
    {
     "data": {
      "application/vnd.jupyter.widget-view+json": {
       "model_id": "f0ee74a5088a4c10984350df99751b4e",
       "version_major": 2,
       "version_minor": 0
      },
      "text/plain": [
       "  0%|          | 0/15 [00:00<?, ?it/s]"
      ]
     },
     "metadata": {},
     "output_type": "display_data"
    },
    {
     "data": {
      "application/vnd.jupyter.widget-view+json": {
       "model_id": "c4b3d85fe54a44c888b3a40112379eeb",
       "version_major": 2,
       "version_minor": 0
      },
      "text/plain": [
       "  0%|          | 0/20 [00:00<?, ?it/s]"
      ]
     },
     "metadata": {},
     "output_type": "display_data"
    },
    {
     "data": {
      "application/vnd.jupyter.widget-view+json": {
       "model_id": "8cdf82f3ccce4bad9c6f438fc2cbf3ea",
       "version_major": 2,
       "version_minor": 0
      },
      "text/plain": [
       "  0%|          | 0/10 [00:00<?, ?it/s]"
      ]
     },
     "metadata": {},
     "output_type": "display_data"
    },
    {
     "data": {
      "application/vnd.jupyter.widget-view+json": {
       "model_id": "3b5b02b067ec4fe9811d1c934de8f61f",
       "version_major": 2,
       "version_minor": 0
      },
      "text/plain": [
       "  0%|          | 0/15 [00:00<?, ?it/s]"
      ]
     },
     "metadata": {},
     "output_type": "display_data"
    },
    {
     "data": {
      "application/vnd.jupyter.widget-view+json": {
       "model_id": "d13fda02882a43c4aeff12243eeca5cc",
       "version_major": 2,
       "version_minor": 0
      },
      "text/plain": [
       "  0%|          | 0/20 [00:00<?, ?it/s]"
      ]
     },
     "metadata": {},
     "output_type": "display_data"
    },
    {
     "data": {
      "application/vnd.jupyter.widget-view+json": {
       "model_id": "840c85dc742844c281d57db72f3a283b",
       "version_major": 2,
       "version_minor": 0
      },
      "text/plain": [
       "  0%|          | 0/10 [00:00<?, ?it/s]"
      ]
     },
     "metadata": {},
     "output_type": "display_data"
    },
    {
     "data": {
      "application/vnd.jupyter.widget-view+json": {
       "model_id": "f973d683a80a46aa94e43f0e2e2e1411",
       "version_major": 2,
       "version_minor": 0
      },
      "text/plain": [
       "  0%|          | 0/15 [00:00<?, ?it/s]"
      ]
     },
     "metadata": {},
     "output_type": "display_data"
    },
    {
     "data": {
      "application/vnd.jupyter.widget-view+json": {
       "model_id": "7480e27553584f7c9ac469b34436ab56",
       "version_major": 2,
       "version_minor": 0
      },
      "text/plain": [
       "  0%|          | 0/20 [00:00<?, ?it/s]"
      ]
     },
     "metadata": {},
     "output_type": "display_data"
    },
    {
     "data": {
      "application/vnd.jupyter.widget-view+json": {
       "model_id": "569fc3e79160470a926f9852b8922a5b",
       "version_major": 2,
       "version_minor": 0
      },
      "text/plain": [
       "  0%|          | 0/10 [00:00<?, ?it/s]"
      ]
     },
     "metadata": {},
     "output_type": "display_data"
    },
    {
     "data": {
      "application/vnd.jupyter.widget-view+json": {
       "model_id": "0bc7f03161344ea4b4a7bb5ffaa2efd3",
       "version_major": 2,
       "version_minor": 0
      },
      "text/plain": [
       "  0%|          | 0/15 [00:00<?, ?it/s]"
      ]
     },
     "metadata": {},
     "output_type": "display_data"
    },
    {
     "data": {
      "application/vnd.jupyter.widget-view+json": {
       "model_id": "3fdb5c4a7fe2474ca5cb8f8b7f26e13d",
       "version_major": 2,
       "version_minor": 0
      },
      "text/plain": [
       "  0%|          | 0/20 [00:00<?, ?it/s]"
      ]
     },
     "metadata": {},
     "output_type": "display_data"
    },
    {
     "name": "stdout",
     "output_type": "stream",
     "text": [
      "Wall time: 8min 56s\n"
     ]
    }
   ],
   "source": [
    "%%time\n",
    "\n",
    "scores = []\n",
    "for factors, reg, iters in it.product(*parameters.values()):\n",
    "    model = AlternatingLeastSquares(factors=factors, \n",
    "                                    regularization=reg,\n",
    "                                    iterations=iters, \n",
    "                                    calculate_training_loss=True, \n",
    "                                    num_threads=6)\n",
    "\n",
    "    model.fit(csr_matrix(user_item_matrix).T,  # На вход item-user matrix\n",
    "              show_progress=True)\n",
    "    \n",
    "    score = {'factors': factors,\n",
    "             'regularization': reg,\n",
    "             'iterations': iters,\n",
    "             'score': score_als_precision(model, rec_results['user_id'], rec_results['actual'], N=5)}\n",
    "    scores.append(score)"
   ]
  },
  {
   "cell_type": "code",
   "execution_count": 19,
   "id": "7d0c294f",
   "metadata": {},
   "outputs": [
    {
     "data": {
      "text/plain": [
       "[{'factors': 32,\n",
       "  'regularization': 0.0001,\n",
       "  'iterations': 10,\n",
       "  'score': 0.16846229187071265},\n",
       " {'factors': 32,\n",
       "  'regularization': 0.0001,\n",
       "  'iterations': 15,\n",
       "  'score': 0.16787463271302402},\n",
       " {'factors': 32,\n",
       "  'regularization': 0.0001,\n",
       "  'iterations': 20,\n",
       "  'score': 0.1654260528893219},\n",
       " {'factors': 32,\n",
       "  'regularization': 0.001,\n",
       "  'iterations': 10,\n",
       "  'score': 0.16062683643486564},\n",
       " {'factors': 32,\n",
       "  'regularization': 0.001,\n",
       "  'iterations': 15,\n",
       "  'score': 0.1649363369245814},\n",
       " {'factors': 32,\n",
       "  'regularization': 0.001,\n",
       "  'iterations': 20,\n",
       "  'score': 0.16611165523995844},\n",
       " {'factors': 32,\n",
       "  'regularization': 0.01,\n",
       "  'iterations': 10,\n",
       "  'score': 0.16738491674828362},\n",
       " {'factors': 32,\n",
       "  'regularization': 0.01,\n",
       "  'iterations': 15,\n",
       "  'score': 0.16758080313417983},\n",
       " {'factors': 32,\n",
       "  'regularization': 0.01,\n",
       "  'iterations': 20,\n",
       "  'score': 0.16856023506366072},\n",
       " {'factors': 64,\n",
       "  'regularization': 0.0001,\n",
       "  'iterations': 10,\n",
       "  'score': 0.16317335945151606},\n",
       " {'factors': 64,\n",
       "  'regularization': 0.0001,\n",
       "  'iterations': 15,\n",
       "  'score': 0.16317335945151595},\n",
       " {'factors': 64,\n",
       "  'regularization': 0.0001,\n",
       "  'iterations': 20,\n",
       "  'score': 0.16199804113613905},\n",
       " {'factors': 64,\n",
       "  'regularization': 0.001,\n",
       "  'iterations': 10,\n",
       "  'score': 0.16777668952007602},\n",
       " {'factors': 64,\n",
       "  'regularization': 0.001,\n",
       "  'iterations': 15,\n",
       "  'score': 0.16238981390793136},\n",
       " {'factors': 64,\n",
       "  'regularization': 0.001,\n",
       "  'iterations': 20,\n",
       "  'score': 0.16062683643486575},\n",
       " {'factors': 64,\n",
       "  'regularization': 0.01,\n",
       "  'iterations': 10,\n",
       "  'score': 0.16836434867776456},\n",
       " {'factors': 64,\n",
       "  'regularization': 0.01,\n",
       "  'iterations': 15,\n",
       "  'score': 0.1660137120470104},\n",
       " {'factors': 64,\n",
       "  'regularization': 0.01,\n",
       "  'iterations': 20,\n",
       "  'score': 0.16493633692458165},\n",
       " {'factors': 128,\n",
       "  'regularization': 0.0001,\n",
       "  'iterations': 10,\n",
       "  'score': 0.1588638589618002},\n",
       " {'factors': 128,\n",
       "  'regularization': 0.0001,\n",
       "  'iterations': 15,\n",
       "  'score': 0.1531831537708111},\n",
       " {'factors': 128,\n",
       "  'regularization': 0.0001,\n",
       "  'iterations': 20,\n",
       "  'score': 0.15533790401566888},\n",
       " {'factors': 128,\n",
       "  'regularization': 0.001,\n",
       "  'iterations': 10,\n",
       "  'score': 0.15896180215474834},\n",
       " {'factors': 128,\n",
       "  'regularization': 0.001,\n",
       "  'iterations': 15,\n",
       "  'score': 0.15416258570029195},\n",
       " {'factors': 128,\n",
       "  'regularization': 0.001,\n",
       "  'iterations': 20,\n",
       "  'score': 0.15318315377081104},\n",
       " {'factors': 128,\n",
       "  'regularization': 0.01,\n",
       "  'iterations': 10,\n",
       "  'score': 0.15945151811948885},\n",
       " {'factors': 128,\n",
       "  'regularization': 0.01,\n",
       "  'iterations': 15,\n",
       "  'score': 0.15612144955925372},\n",
       " {'factors': 128,\n",
       "  'regularization': 0.01,\n",
       "  'iterations': 20,\n",
       "  'score': 0.1525954946131227}]"
      ]
     },
     "execution_count": 19,
     "metadata": {},
     "output_type": "execute_result"
    }
   ],
   "source": [
    "scores"
   ]
  },
  {
   "cell_type": "code",
   "execution_count": 20,
   "id": "b922a190",
   "metadata": {},
   "outputs": [
    {
     "data": {
      "text/html": [
       "<div>\n",
       "<style scoped>\n",
       "    .dataframe tbody tr th:only-of-type {\n",
       "        vertical-align: middle;\n",
       "    }\n",
       "\n",
       "    .dataframe tbody tr th {\n",
       "        vertical-align: top;\n",
       "    }\n",
       "\n",
       "    .dataframe thead th {\n",
       "        text-align: right;\n",
       "    }\n",
       "</style>\n",
       "<table border=\"1\" class=\"dataframe\">\n",
       "  <thead>\n",
       "    <tr style=\"text-align: right;\">\n",
       "      <th></th>\n",
       "      <th>factors</th>\n",
       "      <th>regularization</th>\n",
       "      <th>iterations</th>\n",
       "      <th>score</th>\n",
       "    </tr>\n",
       "  </thead>\n",
       "  <tbody>\n",
       "    <tr>\n",
       "      <th>8</th>\n",
       "      <td>32</td>\n",
       "      <td>0.0100</td>\n",
       "      <td>20</td>\n",
       "      <td>0.168560</td>\n",
       "    </tr>\n",
       "    <tr>\n",
       "      <th>0</th>\n",
       "      <td>32</td>\n",
       "      <td>0.0001</td>\n",
       "      <td>10</td>\n",
       "      <td>0.168462</td>\n",
       "    </tr>\n",
       "    <tr>\n",
       "      <th>15</th>\n",
       "      <td>64</td>\n",
       "      <td>0.0100</td>\n",
       "      <td>10</td>\n",
       "      <td>0.168364</td>\n",
       "    </tr>\n",
       "    <tr>\n",
       "      <th>1</th>\n",
       "      <td>32</td>\n",
       "      <td>0.0001</td>\n",
       "      <td>15</td>\n",
       "      <td>0.167875</td>\n",
       "    </tr>\n",
       "    <tr>\n",
       "      <th>12</th>\n",
       "      <td>64</td>\n",
       "      <td>0.0010</td>\n",
       "      <td>10</td>\n",
       "      <td>0.167777</td>\n",
       "    </tr>\n",
       "    <tr>\n",
       "      <th>7</th>\n",
       "      <td>32</td>\n",
       "      <td>0.0100</td>\n",
       "      <td>15</td>\n",
       "      <td>0.167581</td>\n",
       "    </tr>\n",
       "    <tr>\n",
       "      <th>6</th>\n",
       "      <td>32</td>\n",
       "      <td>0.0100</td>\n",
       "      <td>10</td>\n",
       "      <td>0.167385</td>\n",
       "    </tr>\n",
       "    <tr>\n",
       "      <th>5</th>\n",
       "      <td>32</td>\n",
       "      <td>0.0010</td>\n",
       "      <td>20</td>\n",
       "      <td>0.166112</td>\n",
       "    </tr>\n",
       "    <tr>\n",
       "      <th>16</th>\n",
       "      <td>64</td>\n",
       "      <td>0.0100</td>\n",
       "      <td>15</td>\n",
       "      <td>0.166014</td>\n",
       "    </tr>\n",
       "    <tr>\n",
       "      <th>2</th>\n",
       "      <td>32</td>\n",
       "      <td>0.0001</td>\n",
       "      <td>20</td>\n",
       "      <td>0.165426</td>\n",
       "    </tr>\n",
       "    <tr>\n",
       "      <th>17</th>\n",
       "      <td>64</td>\n",
       "      <td>0.0100</td>\n",
       "      <td>20</td>\n",
       "      <td>0.164936</td>\n",
       "    </tr>\n",
       "    <tr>\n",
       "      <th>4</th>\n",
       "      <td>32</td>\n",
       "      <td>0.0010</td>\n",
       "      <td>15</td>\n",
       "      <td>0.164936</td>\n",
       "    </tr>\n",
       "    <tr>\n",
       "      <th>9</th>\n",
       "      <td>64</td>\n",
       "      <td>0.0001</td>\n",
       "      <td>10</td>\n",
       "      <td>0.163173</td>\n",
       "    </tr>\n",
       "    <tr>\n",
       "      <th>10</th>\n",
       "      <td>64</td>\n",
       "      <td>0.0001</td>\n",
       "      <td>15</td>\n",
       "      <td>0.163173</td>\n",
       "    </tr>\n",
       "    <tr>\n",
       "      <th>13</th>\n",
       "      <td>64</td>\n",
       "      <td>0.0010</td>\n",
       "      <td>15</td>\n",
       "      <td>0.162390</td>\n",
       "    </tr>\n",
       "    <tr>\n",
       "      <th>11</th>\n",
       "      <td>64</td>\n",
       "      <td>0.0001</td>\n",
       "      <td>20</td>\n",
       "      <td>0.161998</td>\n",
       "    </tr>\n",
       "    <tr>\n",
       "      <th>14</th>\n",
       "      <td>64</td>\n",
       "      <td>0.0010</td>\n",
       "      <td>20</td>\n",
       "      <td>0.160627</td>\n",
       "    </tr>\n",
       "    <tr>\n",
       "      <th>3</th>\n",
       "      <td>32</td>\n",
       "      <td>0.0010</td>\n",
       "      <td>10</td>\n",
       "      <td>0.160627</td>\n",
       "    </tr>\n",
       "    <tr>\n",
       "      <th>24</th>\n",
       "      <td>128</td>\n",
       "      <td>0.0100</td>\n",
       "      <td>10</td>\n",
       "      <td>0.159452</td>\n",
       "    </tr>\n",
       "    <tr>\n",
       "      <th>21</th>\n",
       "      <td>128</td>\n",
       "      <td>0.0010</td>\n",
       "      <td>10</td>\n",
       "      <td>0.158962</td>\n",
       "    </tr>\n",
       "    <tr>\n",
       "      <th>18</th>\n",
       "      <td>128</td>\n",
       "      <td>0.0001</td>\n",
       "      <td>10</td>\n",
       "      <td>0.158864</td>\n",
       "    </tr>\n",
       "    <tr>\n",
       "      <th>25</th>\n",
       "      <td>128</td>\n",
       "      <td>0.0100</td>\n",
       "      <td>15</td>\n",
       "      <td>0.156121</td>\n",
       "    </tr>\n",
       "    <tr>\n",
       "      <th>20</th>\n",
       "      <td>128</td>\n",
       "      <td>0.0001</td>\n",
       "      <td>20</td>\n",
       "      <td>0.155338</td>\n",
       "    </tr>\n",
       "    <tr>\n",
       "      <th>22</th>\n",
       "      <td>128</td>\n",
       "      <td>0.0010</td>\n",
       "      <td>15</td>\n",
       "      <td>0.154163</td>\n",
       "    </tr>\n",
       "    <tr>\n",
       "      <th>19</th>\n",
       "      <td>128</td>\n",
       "      <td>0.0001</td>\n",
       "      <td>15</td>\n",
       "      <td>0.153183</td>\n",
       "    </tr>\n",
       "    <tr>\n",
       "      <th>23</th>\n",
       "      <td>128</td>\n",
       "      <td>0.0010</td>\n",
       "      <td>20</td>\n",
       "      <td>0.153183</td>\n",
       "    </tr>\n",
       "    <tr>\n",
       "      <th>26</th>\n",
       "      <td>128</td>\n",
       "      <td>0.0100</td>\n",
       "      <td>20</td>\n",
       "      <td>0.152595</td>\n",
       "    </tr>\n",
       "  </tbody>\n",
       "</table>\n",
       "</div>"
      ],
      "text/plain": [
       "    factors  regularization  iterations     score\n",
       "8        32          0.0100          20  0.168560\n",
       "0        32          0.0001          10  0.168462\n",
       "15       64          0.0100          10  0.168364\n",
       "1        32          0.0001          15  0.167875\n",
       "12       64          0.0010          10  0.167777\n",
       "7        32          0.0100          15  0.167581\n",
       "6        32          0.0100          10  0.167385\n",
       "5        32          0.0010          20  0.166112\n",
       "16       64          0.0100          15  0.166014\n",
       "2        32          0.0001          20  0.165426\n",
       "17       64          0.0100          20  0.164936\n",
       "4        32          0.0010          15  0.164936\n",
       "9        64          0.0001          10  0.163173\n",
       "10       64          0.0001          15  0.163173\n",
       "13       64          0.0010          15  0.162390\n",
       "11       64          0.0001          20  0.161998\n",
       "14       64          0.0010          20  0.160627\n",
       "3        32          0.0010          10  0.160627\n",
       "24      128          0.0100          10  0.159452\n",
       "21      128          0.0010          10  0.158962\n",
       "18      128          0.0001          10  0.158864\n",
       "25      128          0.0100          15  0.156121\n",
       "20      128          0.0001          20  0.155338\n",
       "22      128          0.0010          15  0.154163\n",
       "19      128          0.0001          15  0.153183\n",
       "23      128          0.0010          20  0.153183\n",
       "26      128          0.0100          20  0.152595"
      ]
     },
     "execution_count": 20,
     "metadata": {},
     "output_type": "execute_result"
    }
   ],
   "source": [
    "pd.DataFrame(scores, index=range(len(scores))).sort_values('score', ascending=False)"
   ]
  },
  {
   "cell_type": "code",
   "execution_count": null,
   "id": "ac9b68a5",
   "metadata": {},
   "outputs": [],
   "source": []
  }
 ],
 "metadata": {
  "kernelspec": {
   "display_name": "Python 3",
   "language": "python",
   "name": "python3"
  },
  "language_info": {
   "codemirror_mode": {
    "name": "ipython",
    "version": 3
   },
   "file_extension": ".py",
   "mimetype": "text/x-python",
   "name": "python",
   "nbconvert_exporter": "python",
   "pygments_lexer": "ipython3",
   "version": "3.8.8"
  }
 },
 "nbformat": 4,
 "nbformat_minor": 5
}
